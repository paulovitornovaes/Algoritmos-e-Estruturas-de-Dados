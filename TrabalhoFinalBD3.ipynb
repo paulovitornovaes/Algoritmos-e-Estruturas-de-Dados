{
  "nbformat": 4,
  "nbformat_minor": 0,
  "metadata": {
    "colab": {
      "provenance": [],
      "include_colab_link": true
    },
    "kernelspec": {
      "name": "python3",
      "display_name": "Python 3"
    }
  },
  "cells": [
    {
      "cell_type": "markdown",
      "metadata": {
        "id": "view-in-github",
        "colab_type": "text"
      },
      "source": [
        "<a href=\"https://colab.research.google.com/github/paulovitornovaes/Algoritmos-e-Estruturas-de-Dados/blob/main/TrabalhoFinalBD3.ipynb\" target=\"_parent\"><img src=\"https://colab.research.google.com/assets/colab-badge.svg\" alt=\"Open In Colab\"/></a>"
      ]
    },
    {
      "cell_type": "markdown",
      "metadata": {
        "id": "DTruZS5TPEvK"
      },
      "source": [
        "# Big Data: Como instalar o PySpark no Google Colab\n",
        "Atualizado para a versão 3.4.0\n",
        "\n",
        "Como instalar o PySpark no Google Colab é uma dúvida comum entre aqueles que estão migrando seus projetos de Data Science para ambientes na nuvem.\n",
        "\n",
        "O termo Big Data está cada vez mais presente, e mesmo projetos pessoais podem assumir uma grande dimensionalidade devido à quantidade de dados disponíveis.\n",
        "\n",
        "Para analisar grandes volumes de dados, Big Data, com velocidade, o Apache Spark é uma ferramenta muito utilizada, dada a sua capacidade de processamento de dados e computação paralela.\n",
        "\n",
        "O Spark foi pensado para ser acessível, oferecendo diversas APIs e frameworks em Python, Scala, SQL e diversas outras linguagens.\n",
        "\n",
        "## PySpark no Google Colab\n",
        "\n",
        "PySpark é a interface alto nível que permite você conseguir acessar e usar o Spark por meio da linguagem Python. Usando o PySpark, você consegue escrever todo o seu código usando apenas o nosso estilo Python de escrever código.\n",
        "\n",
        "Já o Google Colab é uma ferramenta incrível, poderosa e gratuita – com suporte de GPU inclusive. Uma vez que roda 100% na nuvem, você não tem a necessidade de instalar qualquer coisa na sua própria máquina.\n",
        "\n",
        "No entanto, apesar da maioria das bibliotecas de Data Science estarem previamente instaladas no Colab, o mesmo não acontece com o PySpark. Para conseguir usar o PySpark é necessário alguns passos intermediários, que não são triviais para aqueles que estão começando.\n",
        "\n",
        "Dessa forma, este é um tutorial simples e direto ensinando a instalar as dependências e a biblioteca.\n",
        "\n",
        "## Instalando o PySpark no Google Colab\n",
        "\n",
        "Instalar o PySpark não é um processo direto como de praxe em Python. Não basta usar um pip install apenas. Na verdade, antes de tudo é necessário instalar dependências como o Java 8, Apache Spark 3.4 junto com o Hadoop 3.3."
      ]
    },
    {
      "cell_type": "code",
      "metadata": {
        "id": "Oz_8sWI7PKEl"
      },
      "source": [
        "#Instalar as dependências\n",
        "\n",
        "#Instalar Java 8\n",
        "!apt-get install openjdk-8-jdk-headless -qq > /dev/null\n",
        "\n",
        "#Realizar o download do Spark\n",
        "!wget -q https://dlcdn.apache.org/spark/spark-3.4.0/spark-3.4.0-bin-hadoop3.tgz\n",
        "\n",
        "#Descompartar o arquivo baixado\n",
        "!tar xf spark-3.4.0-bin-hadoop3.tgz\n",
        "\n",
        "#Instalando a findspark\n",
        "!pip install -q findspark"
      ],
      "execution_count": null,
      "outputs": []
    },
    {
      "cell_type": "markdown",
      "metadata": {
        "id": "cabkOXVRPYgq"
      },
      "source": [
        "A próxima etapa é configurar as variáveis de ambiente, pois isso habilita o ambiente do Colab a identificar corretamente onde as dependências estão rodando.\n",
        "\n",
        "Para conseguir “manipular” o terminal e interagir como ele, você pode usar a biblioteca os."
      ]
    },
    {
      "cell_type": "code",
      "metadata": {
        "id": "RkpG11RQPbRf"
      },
      "source": [
        "#Configurar as variáveis de ambiente\n",
        "\n",
        "#Importando a biblioteca os\n",
        "import os\n",
        "\n",
        "#Definindo a variável de ambiente do Java\n",
        "os.environ[\"JAVA_HOME\"] = \"/usr/lib/jvm/java-8-openjdk-amd64\"\n",
        "\n",
        "#Definindo a variável de ambiente do Spark\n",
        "os.environ[\"SPARK_HOME\"] = \"/content/spark-3.4.0-bin-hadoop3\"\n",
        "\n",
        "#Importando a findspark\n",
        "import findspark\n",
        "\n",
        "#Iniciando o findspark\n",
        "findspark.init('spark-3.4.0-bin-hadoop3')"
      ],
      "execution_count": null,
      "outputs": []
    },
    {
      "cell_type": "markdown",
      "metadata": {
        "id": "Klur5aiRPdqx"
      },
      "source": [
        "Com tudo pronto, vamos rodar uma sessão local para testar se a instalação funcionou corretamente."
      ]
    },
    {
      "cell_type": "code",
      "metadata": {
        "id": "gpJqWggpPKXO"
      },
      "source": [
        "# iniciar uma sessão local\n",
        "from pyspark.sql import SparkSession\n",
        "import time\n",
        "sc = SparkSession.builder.master('local[*]').config('spark.ui.port', '4050').getOrCreate()"
      ],
      "execution_count": null,
      "outputs": []
    },
    {
      "cell_type": "code",
      "source": [
        "#Executando apenas a variável sc em uma célula veremos algumas informações sobre a sessão Spark criada.\n",
        "sc"
      ],
      "metadata": {
        "colab": {
          "base_uri": "https://localhost:8080/",
          "height": 219
        },
        "id": "vSSqv5PxwLGh",
        "outputId": "45508c86-f991-4ef1-ee3a-a78f861abfd1"
      },
      "execution_count": null,
      "outputs": [
        {
          "output_type": "execute_result",
          "data": {
            "text/plain": [
              "<pyspark.sql.session.SparkSession at 0x7fe9940b9180>"
            ],
            "text/html": [
              "\n",
              "            <div>\n",
              "                <p><b>SparkSession - in-memory</b></p>\n",
              "                \n",
              "        <div>\n",
              "            <p><b>SparkContext</b></p>\n",
              "\n",
              "            <p><a href=\"http://61d63f2a3902:4050\">Spark UI</a></p>\n",
              "\n",
              "            <dl>\n",
              "              <dt>Version</dt>\n",
              "                <dd><code>v3.4.0</code></dd>\n",
              "              <dt>Master</dt>\n",
              "                <dd><code>local[*]</code></dd>\n",
              "              <dt>AppName</dt>\n",
              "                <dd><code>pyspark-shell</code></dd>\n",
              "            </dl>\n",
              "        </div>\n",
              "        \n",
              "            </div>\n",
              "        "
            ]
          },
          "metadata": {},
          "execution_count": 4
        }
      ]
    },
    {
      "cell_type": "markdown",
      "source": [
        "Importado dados de exemplo"
      ],
      "metadata": {
        "id": "700tLAH3KYs-"
      }
    },
    {
      "cell_type": "code",
      "source": [
        "#Importando os dados do Airbnb\n",
        "\n",
        "#Download do http para arquivo local\n",
        "!wget --quiet --show-progress http://data.insideairbnb.com/brazil/rj/rio-de-janeiro/2023-03-28/visualisations/listings.csv\n",
        "\n",
        "#O arquivo está disponível no diretório “/content/”. Agora, vamos levar esse arquivo arquivo *.csv para dentro do Spark:"
      ],
      "metadata": {
        "colab": {
          "base_uri": "https://localhost:8080/"
        },
        "id": "sgGaTO--xklK",
        "outputId": "eaef20e2-75d0-430b-899a-f4761bcee696"
      },
      "execution_count": null,
      "outputs": [
        {
          "output_type": "stream",
          "name": "stdout",
          "text": [
            "listings.csv        100%[===================>]   4.37M  6.30MB/s    in 0.7s    \n"
          ]
        }
      ]
    },
    {
      "cell_type": "code",
      "source": [
        "#Carregar dados do Airbnb\n",
        "df_spark = sc.read.option(\"delimiter\", \",\").csv(\"./listings.csv\", inferSchema=True, header=True)"
      ],
      "metadata": {
        "id": "U8yBOu95yN5M"
      },
      "execution_count": null,
      "outputs": []
    },
    {
      "cell_type": "code",
      "source": [
        "#Verificando o tipo de objeto criado\n",
        "type(df_spark)"
      ],
      "metadata": {
        "colab": {
          "base_uri": "https://localhost:8080/"
        },
        "id": "ELS9FuDWvqhm",
        "outputId": "ca1ff3bc-d5c1-4f39-b250-786451891f2e"
      },
      "execution_count": null,
      "outputs": [
        {
          "output_type": "execute_result",
          "data": {
            "text/plain": [
              "pyspark.sql.dataframe.DataFrame"
            ]
          },
          "metadata": {},
          "execution_count": 10
        }
      ]
    },
    {
      "cell_type": "markdown",
      "source": [
        "Perceba que é um formato específico de DataFrame, diferente do conhecido pandas.DataFrame, portanto não é possível utilizar os métodos do Pandas diretamente sobre esse objeto. Mas fique tranquilo que o PySpark possui uma enorme quantidade de métodos para serem aplicados aos Spark Dataframes."
      ],
      "metadata": {
        "id": "6RIMZp5AyZyp"
      }
    },
    {
      "cell_type": "code",
      "source": [
        "# Espiando o dataset\n",
        "df_spark.show(truncate=False)"
      ],
      "metadata": {
        "colab": {
          "base_uri": "https://localhost:8080/"
        },
        "id": "O85akbeVx876",
        "outputId": "33c51b72-1e4d-4bd5-9e9e-5797edff8f2b"
      },
      "execution_count": null,
      "outputs": [
        {
          "output_type": "stream",
          "name": "stdout",
          "text": [
            "+------+--------------------------------------------------+-------+------------------------+-------------------+---------------+----------+----------+---------------+-----+--------------+-----------------+-----------+-----------------+------------------------------+----------------+---------------------+-------+\n",
            "|id    |name                                              |host_id|host_name               |neighbourhood_group|neighbourhood  |latitude  |longitude |room_type      |price|minimum_nights|number_of_reviews|last_review|reviews_per_month|calculated_host_listings_count|availability_365|number_of_reviews_ltm|license|\n",
            "+------+--------------------------------------------------+-------+------------------------+-------------------+---------------+----------+----------+---------------+-----+--------------+-----------------+-----------+-----------------+------------------------------+----------------+---------------------+-------+\n",
            "|17878 |Very Nice 2Br in Copacabana w. balcony, fast WiFi |68997  |Matthias                |null               |Copacabana     |-22.96599 |-43.1794  |Entire home/apt|350  |5             |288              |2023-03-01 |1.86             |1                             |264             |19.0                 |null   |\n",
            "|24480 |Nice and cozy near Ipanema Beach, w/ home office  |99249  |Goya                    |null               |Ipanema        |-22.98405 |-43.20189 |Entire home/apt|624  |3             |86               |2023-03-27 |0.56             |3                             |357             |1.0                  |null   |\n",
            "|200568|30m of Ipa Beach e fins de semana special price ! |980805 |Henrique                |null               |Ipanema        |-22.98586 |-43.19411 |Entire home/apt|100  |30            |198              |2023-02-13 |1.45             |6                             |59              |9.0                  |null   |\n",
            "|342874|Comfortable in Copacabana beach                   |829630 |Luciana                 |null               |Leme           |-22.96392 |-43.17263 |Entire home/apt|236  |2             |159              |2023-02-26 |1.19             |3                             |105             |31.0                 |null   |\n",
            "|25026 |Beautiful Modern Decorated Studio in Copa         |102840 |Viviane                 |null               |Copacabana     |-22.97735 |-43.19105 |Entire home/apt|307  |3             |262              |2023-03-27 |1.68             |1                             |257             |14.0                 |null   |\n",
            "|202778|Best Studio in Rio - Copacabana                   |529105 |Alex                    |null               |Copacabana     |-22.96582 |-43.17786 |Entire home/apt|266  |3             |223              |2023-03-08 |1.58             |3                             |356             |10.0                 |null   |\n",
            "|35764 |COPACABANA SEA BREEZE  -  RIO - 25  X Superhost   |153691 |Patricia Miranda & Paulo|null               |Copacabana     |-22.98107 |-43.19136 |Entire home/apt|180  |3             |428              |2023-03-21 |2.82             |1                             |53              |40.0                 |null   |\n",
            "|48305 |Bright 6bed Penthouse Seconds from Beach          |70933  |Goitaca                 |null               |Ipanema        |-22.98591 |-43.20302 |Entire home/apt|2270 |2             |136              |2023-03-19 |0.92             |9                             |254             |34.0                 |null   |\n",
            "|203674|IPANEMA PENTHOUSE,JACUZZI + STUNNING CRISTO VIEWS!|999125 |Alastair                |null               |Ipanema        |-22.98335 |-43.20306 |Entire home/apt|1899 |5             |48               |2019-05-07 |0.36             |1                             |268             |0.0                  |null   |\n",
            "|210173|BEAUTIFUL! Spacious,all rooms                     |1030316|Elizabeth               |null               |Copacabana     |-22.98596 |-43.19001 |Private room   |1576 |2             |3                |2019-10-03 |0.02             |3                             |365             |0.0                  |null   |\n",
            "|215793|BEAUTIFUL! Spacious,king room!                    |1030316|Elizabeth               |null               |Copacabana     |-22.98596 |-43.19001 |Private room   |427  |2             |39               |2023-02-23 |0.28             |3                             |259             |6.0                  |null   |\n",
            "|344463|Ocean front 2 suite apt + amenities               |1762102|Hilda                   |null               |Barra da Tijuca|-23.0098  |-43.37099 |Entire home/apt|539  |3             |65               |2022-09-05 |0.51             |2                             |217             |1.0                  |null   |\n",
            "|48901 |Confortable 4BD 3.5BT Atlantic avenue             |222884 |Marcio                  |null               |Copacabana     |-22.96574 |-43.17514 |Entire home/apt|627  |3             |13               |2023-03-12 |0.14             |2                             |354             |5.0                  |null   |\n",
            "|346694|Alugo quarto espaçoso ,com direitos               |1612576|Jassanan                |null               |Vila da Penha  |-22.84208 |-43.31572 |Private room   |340  |1             |0                |null       |null             |1                             |362             |0.0                  |null   |\n",
            "|215887|BEAUTIFUL! Spacious,TWIN ROOM.                    |1030316|Elizabeth               |null               |Copacabana     |-22.98596 |-43.19001 |Private room   |214  |2             |39               |2023-02-22 |0.28             |3                             |255             |5.0                  |null   |\n",
            "|49179 |Djalma Ocean View Studio with Amazing Views #100A |224192 |David                   |null               |Copacabana     |-22.9791  |-43.19008 |Entire home/apt|200  |4             |133              |2023-03-20 |1.06             |21                            |132             |14.0                 |null   |\n",
            "|51703 |Ocean view, block of the beach, Copacabana,Ipanema|238091 |Dália                   |null               |Copacabana     |-22.981731|-43.190571|Entire home/apt|178  |3             |233              |2023-03-25 |1.80             |2                             |326             |30.0                 |null   |\n",
            "|216461|Comfortable room in Flamengo / RIO                |1154263|Zeilma , Da             |null               |Flamengo       |-22.9399  |-43.17676 |Private room   |780  |1             |0                |null       |null             |1                             |365             |0.0                  |null   |\n",
            "|347295|Copa Penthouse Brown & White Suite                |1603206|Bob                     |null               |Copacabana     |-22.96654 |-43.18248 |Entire home/apt|197  |3             |75               |2023-03-19 |0.56             |5                             |333             |2.0                  |null   |\n",
            "|53533 |Walk to Joatinga Beach/PedraDaGávea View Casa/Pool|249439 |Sherri & Andre          |null               |Joá            |-23.00809 |-43.29113 |Entire home/apt|1355 |2             |31               |2023-02-23 |0.22             |1                             |332             |13.0                 |null   |\n",
            "+------+--------------------------------------------------+-------+------------------------+-------------------+---------------+----------+----------+---------------+-----+--------------+-----------------+-----------+-----------------+------------------------------+----------------+---------------------+-------+\n",
            "only showing top 20 rows\n",
            "\n"
          ]
        }
      ]
    },
    {
      "cell_type": "markdown",
      "source": [],
      "metadata": {
        "id": "bdXT0O7wzBKr"
      }
    },
    {
      "cell_type": "code",
      "source": [
        "# Verificando o schema() deste sparkdataframe\n",
        "df_spark.printSchema()"
      ],
      "metadata": {
        "colab": {
          "base_uri": "https://localhost:8080/"
        },
        "id": "G3jpGL_WykSg",
        "outputId": "8050fee8-9d61-434a-f72c-331270aed7ff"
      },
      "execution_count": null,
      "outputs": [
        {
          "output_type": "stream",
          "name": "stdout",
          "text": [
            "root\n",
            " |-- id: string (nullable = true)\n",
            " |-- name: string (nullable = true)\n",
            " |-- host_id: string (nullable = true)\n",
            " |-- host_name: string (nullable = true)\n",
            " |-- neighbourhood_group: string (nullable = true)\n",
            " |-- neighbourhood: string (nullable = true)\n",
            " |-- latitude: string (nullable = true)\n",
            " |-- longitude: string (nullable = true)\n",
            " |-- room_type: string (nullable = true)\n",
            " |-- price: string (nullable = true)\n",
            " |-- minimum_nights: string (nullable = true)\n",
            " |-- number_of_reviews: string (nullable = true)\n",
            " |-- last_review: string (nullable = true)\n",
            " |-- reviews_per_month: string (nullable = true)\n",
            " |-- calculated_host_listings_count: string (nullable = true)\n",
            " |-- availability_365: string (nullable = true)\n",
            " |-- number_of_reviews_ltm: double (nullable = true)\n",
            " |-- license: integer (nullable = true)\n",
            "\n"
          ]
        }
      ]
    },
    {
      "cell_type": "markdown",
      "source": [
        "Perceba que a variável number_of_reviews, apesar de ser numérica e contínua, foi lida como string. Portanto, precisamos mudar o tipo da variável de string para int conforme comandos a seguir:"
      ],
      "metadata": {
        "id": "V9ER8ulezilA"
      }
    },
    {
      "cell_type": "code",
      "source": [
        "#Transformando o atributo number_of_reviews em numerica\n",
        "df_spark = df_spark.withColumn(\"number_of_reviews\",df_spark.number_of_reviews.cast('int'))\n",
        "\n",
        "#Verificando a transformação\n",
        "df_spark.select('number_of_reviews').printSchema()"
      ],
      "metadata": {
        "colab": {
          "base_uri": "https://localhost:8080/"
        },
        "id": "h3UuZheazyJQ",
        "outputId": "0cc0bfbb-e389-4359-ec26-77d75470118d"
      },
      "execution_count": null,
      "outputs": [
        {
          "output_type": "stream",
          "name": "stdout",
          "text": [
            "root\n",
            " |-- number_of_reviews: integer (nullable = true)\n",
            "\n"
          ]
        }
      ]
    },
    {
      "cell_type": "code",
      "source": [
        "#Importa as funções SQL\n",
        "from pyspark.sql import functions as F\n",
        "from pyspark.sql.functions import *"
      ],
      "metadata": {
        "id": "Kfp8bqhI7isH"
      },
      "execution_count": null,
      "outputs": []
    },
    {
      "cell_type": "code",
      "source": [
        "#Quantidade de linhas no dataframe\n",
        "linhas = df_spark.count()\n",
        "print(linhas)"
      ],
      "metadata": {
        "colab": {
          "base_uri": "https://localhost:8080/"
        },
        "id": "xerLDvHt62S9",
        "outputId": "6cde01f6-bad4-4cc2-b2a1-fc1cac1014d6"
      },
      "execution_count": null,
      "outputs": [
        {
          "output_type": "stream",
          "name": "stdout",
          "text": [
            "30746\n"
          ]
        }
      ]
    },
    {
      "cell_type": "code",
      "source": [
        "#Quantidade de colunas no dataframe\n",
        "colunas = len(df_spark.columns)\n",
        "print(colunas)"
      ],
      "metadata": {
        "colab": {
          "base_uri": "https://localhost:8080/"
        },
        "id": "HoXPlVl77dR7",
        "outputId": "25d0fba5-be62-476f-af52-4f1b922df65b"
      },
      "execution_count": null,
      "outputs": [
        {
          "output_type": "stream",
          "name": "stdout",
          "text": [
            "18\n"
          ]
        }
      ]
    },
    {
      "cell_type": "code",
      "source": [
        "#Selecionando apenas uma coluna\n",
        "df_spark.select(df_spark.neighbourhood).show()"
      ],
      "metadata": {
        "colab": {
          "base_uri": "https://localhost:8080/"
        },
        "id": "eEyOE64k8OEn",
        "outputId": "2db508c9-2172-43b4-9fe5-7dc2c44cdede"
      },
      "execution_count": null,
      "outputs": [
        {
          "output_type": "stream",
          "name": "stdout",
          "text": [
            "+---------------+\n",
            "|  neighbourhood|\n",
            "+---------------+\n",
            "|     Copacabana|\n",
            "|        Ipanema|\n",
            "|        Ipanema|\n",
            "|           Leme|\n",
            "|     Copacabana|\n",
            "|     Copacabana|\n",
            "|     Copacabana|\n",
            "|        Ipanema|\n",
            "|        Ipanema|\n",
            "|     Copacabana|\n",
            "|     Copacabana|\n",
            "|Barra da Tijuca|\n",
            "|     Copacabana|\n",
            "|  Vila da Penha|\n",
            "|     Copacabana|\n",
            "|     Copacabana|\n",
            "|     Copacabana|\n",
            "|       Flamengo|\n",
            "|     Copacabana|\n",
            "|            Joá|\n",
            "+---------------+\n",
            "only showing top 20 rows\n",
            "\n"
          ]
        }
      ]
    },
    {
      "cell_type": "code",
      "source": [
        "#Selecionando valores distintos\n",
        "dropDisDF = df_spark.dropDuplicates([\"neighbourhood\"]).select(\"neighbourhood\")\n",
        "dropDisDF.show(truncate=False)"
      ],
      "metadata": {
        "colab": {
          "base_uri": "https://localhost:8080/"
        },
        "id": "Japl0lJY9665",
        "outputId": "68d7acf2-ecc4-4417-a179-22a2e82222c3"
      },
      "execution_count": null,
      "outputs": [
        {
          "output_type": "stream",
          "name": "stdout",
          "text": [
            "+-------------------+\n",
            "|neighbourhood      |\n",
            "+-------------------+\n",
            "|-22.96015          |\n",
            "|Cocotá             |\n",
            "|-22.97178          |\n",
            "|Gávea              |\n",
            "|Tomás Coelho       |\n",
            "|Ipanema            |\n",
            "|-22.98487          |\n",
            "|-23.012897663648584|\n",
            "|-22.85223724479751 |\n",
            "|-22.97122          |\n",
            "|-22.98221          |\n",
            "|-22.961974403551796|\n",
            "|Realengo           |\n",
            "|-22.99748          |\n",
            "|-22.9775469        |\n",
            "|Gardênia Azul      |\n",
            "|-22.97505          |\n",
            "|Rocha              |\n",
            "|Bento Ribeiro      |\n",
            "|Vicente de Carvalho|\n",
            "+-------------------+\n",
            "only showing top 20 rows\n",
            "\n"
          ]
        }
      ]
    },
    {
      "cell_type": "code",
      "source": [
        "#Realizando uma limpeza no dataframe\n",
        "df_spark_clean = df_spark.filter(~F.col('neighbourhood').contains('2'))\n",
        "dropDisDF_clean = df_spark_clean.dropDuplicates([\"neighbourhood\"]).select(\"neighbourhood\")\n",
        "dropDisDF_clean.show(truncate=False)"
      ],
      "metadata": {
        "colab": {
          "base_uri": "https://localhost:8080/"
        },
        "id": "1723_GoLDwPj",
        "outputId": "b98db1b1-9493-4f09-d49c-8b74dbce6db9"
      },
      "execution_count": null,
      "outputs": [
        {
          "output_type": "stream",
          "name": "stdout",
          "text": [
            "+-------------------+\n",
            "|neighbourhood      |\n",
            "+-------------------+\n",
            "|Cocotá             |\n",
            "|Gávea              |\n",
            "|Tomás Coelho       |\n",
            "|Ipanema            |\n",
            "|Realengo           |\n",
            "|Gardênia Azul      |\n",
            "|Rocha              |\n",
            "|Bento Ribeiro      |\n",
            "|Vicente de Carvalho|\n",
            "|Manguinhos         |\n",
            "|Leme               |\n",
            "|Jacarepaguá        |\n",
            "|Botafogo           |\n",
            "|Campo Grande       |\n",
            "|Rocinha            |\n",
            "|Grumari            |\n",
            "|Padre Miguel       |\n",
            "|Flamengo           |\n",
            "|Santo Cristo       |\n",
            "|Engenho da Rainha  |\n",
            "+-------------------+\n",
            "only showing top 20 rows\n",
            "\n"
          ]
        }
      ]
    },
    {
      "cell_type": "code",
      "source": [
        "#Verificando o total de reviews por bairro do Rio de Janeiro\n",
        "df_spark_clean.groupBy('neighbourhood').sum('number_of_reviews').orderBy('neighbourhood').show(100)"
      ],
      "metadata": {
        "colab": {
          "base_uri": "https://localhost:8080/"
        },
        "id": "A29LSa8S0LrC",
        "outputId": "f8d03280-e83c-4b1b-e172-bb64e92c91a0"
      },
      "execution_count": null,
      "outputs": [
        {
          "output_type": "stream",
          "name": "stdout",
          "text": [
            "+--------------------+----------------------+\n",
            "|       neighbourhood|sum(number_of_reviews)|\n",
            "+--------------------+----------------------+\n",
            "|            Abolição|                     0|\n",
            "|               Acari|                     0|\n",
            "|   Alto da Boa Vista|                   558|\n",
            "|            Anchieta|                     0|\n",
            "|             Andaraí|                   256|\n",
            "|                Anil|                   158|\n",
            "|           Bancários|                    62|\n",
            "|               Bangu|                    78|\n",
            "|     Barra da Tijuca|                 48023|\n",
            "|  Barra de Guaratiba|                  1524|\n",
            "|        Barros Filho|                     1|\n",
            "|             Benfica|                    49|\n",
            "|       Bento Ribeiro|                   165|\n",
            "|          Bonsucesso|                    29|\n",
            "|            Botafogo|                 23499|\n",
            "|        Brás de Pina|                    89|\n",
            "|            Cachambi|                   123|\n",
            "|              Cacuia|                   179|\n",
            "|                Caju|                     0|\n",
            "|             Camorim|                  4906|\n",
            "|            Campinho|                    40|\n",
            "|        Campo Grande|                   798|\n",
            "|           Cascadura|                     1|\n",
            "|              Catete|                  3426|\n",
            "|             Catumbi|                    68|\n",
            "|          Cavalcanti|                     0|\n",
            "|              Centro|                 20007|\n",
            "|         Cidade Nova|                   142|\n",
            "|Cidade Universitária|                     8|\n",
            "|      Cidade de Deus|                    10|\n",
            "|              Cocotá|                     5|\n",
            "|         Coelho Neto|                    56|\n",
            "|             Colégio|                    25|\n",
            "|  Complexo do Alemão|                     1|\n",
            "|          Copacabana|                215700|\n",
            "|            Cordovil|                     1|\n",
            "|         Cosme Velho|                   772|\n",
            "|              Cosmos|                    47|\n",
            "|            Curicica|                   609|\n",
            "|        Del Castilho|                    38|\n",
            "|             Deodoro|                    27|\n",
            "|           Encantado|                    20|\n",
            "|     Engenheiro Leal|                     1|\n",
            "|        Engenho Novo|                   144|\n",
            "|   Engenho da Rainha|                     1|\n",
            "|   Engenho de Dentro|                   100|\n",
            "|             Estácio|                   313|\n",
            "|            Flamengo|                  9596|\n",
            "|    Freguesia (Ilha)|                     8|\n",
            "|Freguesia (Jacare...|                   739|\n",
            "|            Gabriela|                   320|\n",
            "|              Galeão|                     2|\n",
            "|              Gamboa|                   345|\n",
            "|       Gardênia Azul|                   170|\n",
            "|            Gericinó|                     2|\n",
            "|              Glória|                  4866|\n",
            "|              Grajaú|                   191|\n",
            "|             Grumari|                   189|\n",
            "|           Guadalupe|                     8|\n",
            "|           Guaratiba|                   965|\n",
            "|               Gávea|                  1769|\n",
            "|        Higienópolis|                    25|\n",
            "|      Honório Gurgel|                   228|\n",
            "|             Humaitá|                  1241|\n",
            "|             Inhaúma|                    35|\n",
            "|            Inhoaíba|                    15|\n",
            "|             Ipanema|                 80063|\n",
            "|               Irajá|                   204|\n",
            "|           Itanhangá|                  1352|\n",
            "|         Jacarepaguá|                 15272|\n",
            "|              Jacaré|                     1|\n",
            "|      Jardim América|                     6|\n",
            "|     Jardim Botânico|                  1709|\n",
            "|      Jardim Carioca|                    98|\n",
            "|    Jardim Guanabara|                   915|\n",
            "|      Jardim Sulacap|                   118|\n",
            "|                 Joá|                  1403|\n",
            "|               Lagoa|                  3240|\n",
            "|         Laranjeiras|                  4556|\n",
            "|              Leblon|                 33750|\n",
            "|                Leme|                 10566|\n",
            "| Lins de Vasconcelos|                    10|\n",
            "|           Madureira|                    45|\n",
            "|    Magalhães Bastos|                    31|\n",
            "|          Manguinhos|                     0|\n",
            "|            Maracanã|                   719|\n",
            "|     Marechal Hermes|                     9|\n",
            "|      Maria da Graça|                    42|\n",
            "|              Moneró|                   104|\n",
            "|               Méier|                    88|\n",
            "|              Olaria|                    76|\n",
            "|        Osvaldo Cruz|                     6|\n",
            "|           Paciência|                    12|\n",
            "|        Padre Miguel|                    10|\n",
            "|             Paquetá|                   811|\n",
            "|     Parada de Lucas|                    89|\n",
            "|     Parque Anchieta|                     7|\n",
            "|              Pavuna|                     1|\n",
            "|           Pechincha|                   288|\n",
            "|  Pedra de Guaratiba|                    17|\n",
            "+--------------------+----------------------+\n",
            "only showing top 100 rows\n",
            "\n"
          ]
        }
      ]
    },
    {
      "cell_type": "code",
      "source": [
        "#Verificando o total de reviews por bairro do Rio de Janeiro\n",
        "df_spark_clean.groupBy('neighbourhood').sum('number_of_reviews').orderBy('sum(number_of_reviews)').show(100)"
      ],
      "metadata": {
        "id": "_pVlw8EaFAF4",
        "colab": {
          "base_uri": "https://localhost:8080/"
        },
        "outputId": "3287e985-d226-417b-e1f9-1371700665bb"
      },
      "execution_count": null,
      "outputs": [
        {
          "output_type": "stream",
          "name": "stdout",
          "text": [
            "+--------------------+----------------------+\n",
            "|       neighbourhood|sum(number_of_reviews)|\n",
            "+--------------------+----------------------+\n",
            "|          Manguinhos|                     0|\n",
            "|            Abolição|                     0|\n",
            "|            Anchieta|                     0|\n",
            "|         Vila Kosmos|                     0|\n",
            "|          Santíssimo|                     0|\n",
            "|               Acari|                     0|\n",
            "|          Água Santa|                     0|\n",
            "|                Caju|                     0|\n",
            "|Ricardo de Albuqu...|                     0|\n",
            "|          Cavalcanti|                     0|\n",
            "|   Engenho da Rainha|                     1|\n",
            "|              Pavuna|                     1|\n",
            "|     Engenheiro Leal|                     1|\n",
            "|           Cascadura|                     1|\n",
            "|        Barros Filho|                     1|\n",
            "|  Complexo do Alemão|                     1|\n",
            "|            Cordovil|                     1|\n",
            "|              Jacaré|                     1|\n",
            "|            Gericinó|                     2|\n",
            "|              Galeão|                     2|\n",
            "|       Vigário Geral|                     3|\n",
            "|             Piedade|                     4|\n",
            "|              Cocotá|                     5|\n",
            "|        Tomás Coelho|                     5|\n",
            "|             Ribeira|                     6|\n",
            "|             Turiaçú|                     6|\n",
            "|        Osvaldo Cruz|                     6|\n",
            "|   Quintino Bocaiúva|                     6|\n",
            "|      Jardim América|                     6|\n",
            "|               Zumbi|                     7|\n",
            "|     Parque Anchieta|                     7|\n",
            "|           Guadalupe|                     8|\n",
            "|Cidade Universitária|                     8|\n",
            "|    Freguesia (Ilha)|                     8|\n",
            "|     Marechal Hermes|                     9|\n",
            "|        Padre Miguel|                    10|\n",
            "| Lins de Vasconcelos|                    10|\n",
            "|            Vaz Lobo|                    10|\n",
            "|      Cidade de Deus|                    10|\n",
            "|           Paciência|                    12|\n",
            "| Vicente de Carvalho|                    13|\n",
            "|            Inhoaíba|                    15|\n",
            "|        Pitangueiras|                    16|\n",
            "|  Pedra de Guaratiba|                    17|\n",
            "|      Penha Circular|                    18|\n",
            "|           Encantado|                    20|\n",
            "|              Tanque|                    20|\n",
            "|           Riachuelo|                    20|\n",
            "|            Sepetiba|                    24|\n",
            "|               Rocha|                    25|\n",
            "|             Colégio|                    25|\n",
            "|        Higienópolis|                    25|\n",
            "|             Deodoro|                    27|\n",
            "|          Bonsucesso|                    29|\n",
            "|       Vila da Penha|                    30|\n",
            "|    Magalhães Bastos|                    31|\n",
            "|                Tauá|                    34|\n",
            "|             Inhaúma|                    35|\n",
            "|   Praia da Bandeira|                    35|\n",
            "|       Vasco da Gama|                    36|\n",
            "|        Del Castilho|                    38|\n",
            "|            Realengo|                    40|\n",
            "|            Campinho|                    40|\n",
            "|      Senador Camará|                    40|\n",
            "|      Maria da Graça|                    42|\n",
            "|             Pilares|                    44|\n",
            "|           Madureira|                    45|\n",
            "|              Cosmos|                    47|\n",
            "|             Benfica|                    49|\n",
            "|       Rocha Miranda|                    51|\n",
            "|             Sampaio|                    56|\n",
            "|         Coelho Neto|                    56|\n",
            "|           Bancários|                    62|\n",
            "|               Saúde|                    67|\n",
            "|             Catumbi|                    68|\n",
            "|             Rocinha|                    71|\n",
            "|              Olaria|                    76|\n",
            "|               Bangu|                    78|\n",
            "|          Santa Cruz|                    83|\n",
            "|               Méier|                    88|\n",
            "|     Parada de Lucas|                    89|\n",
            "|        Brás de Pina|                    89|\n",
            "|          Praça Seca|                    95|\n",
            "|      Jardim Carioca|                    98|\n",
            "|     Todos os Santos|                    99|\n",
            "|   Engenho de Dentro|                   100|\n",
            "|              Moneró|                   104|\n",
            "|        Vila Militar|                   107|\n",
            "|      Jardim Sulacap|                   118|\n",
            "|        Santo Cristo|                   122|\n",
            "|            Cachambi|                   123|\n",
            "|         Cidade Nova|                   142|\n",
            "|        Engenho Novo|                   144|\n",
            "|                Anil|                   158|\n",
            "|               Ramos|                   164|\n",
            "|       Bento Ribeiro|                   165|\n",
            "|       Gardênia Azul|                   170|\n",
            "| Senador Vasconcelos|                   179|\n",
            "|              Cacuia|                   179|\n",
            "|             Grumari|                   189|\n",
            "+--------------------+----------------------+\n",
            "only showing top 100 rows\n",
            "\n"
          ]
        }
      ]
    },
    {
      "cell_type": "code",
      "source": [
        "df_spark_clean.groupBy('neighbourhood').sum('number_of_reviews').orderBy(col('sum(number_of_reviews)').desc()).show(100)"
      ],
      "metadata": {
        "colab": {
          "base_uri": "https://localhost:8080/"
        },
        "id": "6zSgzsDIOqut",
        "outputId": "35e0e4e2-f523-4473-8dbb-fcdd52e92c7b"
      },
      "execution_count": null,
      "outputs": [
        {
          "output_type": "stream",
          "name": "stdout",
          "text": [
            "+--------------------+----------------------+\n",
            "|       neighbourhood|sum(number_of_reviews)|\n",
            "+--------------------+----------------------+\n",
            "|          Copacabana|                215700|\n",
            "|             Ipanema|                 80063|\n",
            "|     Barra da Tijuca|                 48023|\n",
            "|              Leblon|                 33750|\n",
            "|            Botafogo|                 23499|\n",
            "|              Centro|                 20007|\n",
            "|        Santa Teresa|                 19064|\n",
            "|Recreio dos Bande...|                 17189|\n",
            "|         Jacarepaguá|                 15272|\n",
            "|                Leme|                 10566|\n",
            "|            Flamengo|                  9596|\n",
            "|             Camorim|                  4906|\n",
            "|              Glória|                  4866|\n",
            "|         Laranjeiras|                  4556|\n",
            "|              Tijuca|                  4280|\n",
            "|             Vidigal|                  3493|\n",
            "|              Catete|                  3426|\n",
            "|               Lagoa|                  3240|\n",
            "|                Urca|                  2667|\n",
            "|               Gávea|                  1769|\n",
            "|     Jardim Botânico|                  1709|\n",
            "|       São Cristóvão|                  1676|\n",
            "|  Barra de Guaratiba|                  1524|\n",
            "|                 Joá|                  1403|\n",
            "|           Itanhangá|                  1352|\n",
            "|             Humaitá|                  1241|\n",
            "|           Guaratiba|                   965|\n",
            "|         Vila Isabel|                   959|\n",
            "|    Jardim Guanabara|                   915|\n",
            "|          Portuguesa|                   814|\n",
            "|             Paquetá|                   811|\n",
            "|        Campo Grande|                   798|\n",
            "|         Cosme Velho|                   772|\n",
            "|Freguesia (Jacare...|                   739|\n",
            "|            Maracanã|                   719|\n",
            "|      Vargem Pequena|                   657|\n",
            "|             Taquara|                   647|\n",
            "|            Curicica|                   609|\n",
            "|       Vargem Grande|                   570|\n",
            "|   Alto da Boa Vista|                   558|\n",
            "|         São Conrado|                   537|\n",
            "|        Rio Comprido|                   355|\n",
            "|              Gamboa|                   345|\n",
            "|   Praça da Bandeira|                   342|\n",
            "|            Gabriela|                   320|\n",
            "|             Estácio|                   313|\n",
            "|           Pechincha|                   288|\n",
            "|             Andaraí|                   256|\n",
            "|               Penha|                   255|\n",
            "|São Francisco Xavier|                   235|\n",
            "|      Honório Gurgel|                   228|\n",
            "|               Irajá|                   204|\n",
            "|      Vila Valqueire|                   201|\n",
            "|              Grajaú|                   191|\n",
            "|             Grumari|                   189|\n",
            "| Senador Vasconcelos|                   179|\n",
            "|              Cacuia|                   179|\n",
            "|       Gardênia Azul|                   170|\n",
            "|       Bento Ribeiro|                   165|\n",
            "|               Ramos|                   164|\n",
            "|                Anil|                   158|\n",
            "|        Engenho Novo|                   144|\n",
            "|         Cidade Nova|                   142|\n",
            "|            Cachambi|                   123|\n",
            "|        Santo Cristo|                   122|\n",
            "|      Jardim Sulacap|                   118|\n",
            "|        Vila Militar|                   107|\n",
            "|              Moneró|                   104|\n",
            "|   Engenho de Dentro|                   100|\n",
            "|     Todos os Santos|                    99|\n",
            "|      Jardim Carioca|                    98|\n",
            "|          Praça Seca|                    95|\n",
            "|     Parada de Lucas|                    89|\n",
            "|        Brás de Pina|                    89|\n",
            "|               Méier|                    88|\n",
            "|          Santa Cruz|                    83|\n",
            "|               Bangu|                    78|\n",
            "|              Olaria|                    76|\n",
            "|             Rocinha|                    71|\n",
            "|             Catumbi|                    68|\n",
            "|               Saúde|                    67|\n",
            "|           Bancários|                    62|\n",
            "|             Sampaio|                    56|\n",
            "|         Coelho Neto|                    56|\n",
            "|       Rocha Miranda|                    51|\n",
            "|             Benfica|                    49|\n",
            "|              Cosmos|                    47|\n",
            "|           Madureira|                    45|\n",
            "|             Pilares|                    44|\n",
            "|      Maria da Graça|                    42|\n",
            "|            Realengo|                    40|\n",
            "|            Campinho|                    40|\n",
            "|      Senador Camará|                    40|\n",
            "|        Del Castilho|                    38|\n",
            "|       Vasco da Gama|                    36|\n",
            "|             Inhaúma|                    35|\n",
            "|   Praia da Bandeira|                    35|\n",
            "|                Tauá|                    34|\n",
            "|    Magalhães Bastos|                    31|\n",
            "|       Vila da Penha|                    30|\n",
            "+--------------------+----------------------+\n",
            "only showing top 100 rows\n",
            "\n"
          ]
        }
      ]
    },
    {
      "cell_type": "code",
      "source": [],
      "metadata": {
        "id": "_Vx2fM-yPzBE"
      },
      "execution_count": null,
      "outputs": []
    }
  ]
}